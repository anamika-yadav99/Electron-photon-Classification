{
  "nbformat": 4,
  "nbformat_minor": 0,
  "metadata": {
    "colab": {
      "name": "E2E_E/P_Classification",
      "provenance": [],
      "collapsed_sections": [],
      "machine_shape": "hm",
      "authorship_tag": "ABX9TyN4wKeBJLEVAOHOLaMnnjZu",
      "include_colab_link": true
    },
    "kernelspec": {
      "name": "python3",
      "display_name": "Python 3"
    },
    "language_info": {
      "name": "python"
    },
    "accelerator": "GPU"
  },
  "cells": [
    {
      "cell_type": "markdown",
      "metadata": {
        "id": "view-in-github",
        "colab_type": "text"
      },
      "source": [
        "<a href=\"https://colab.research.google.com/github/anamika-yadav99/Screening-task/blob/main/E2E_E_P_Classification.ipynb\" target=\"_parent\"><img src=\"https://colab.research.google.com/assets/colab-badge.svg\" alt=\"Open In Colab\"/></a>"
      ]
    },
    {
      "cell_type": "code",
      "execution_count": 1,
      "metadata": {
        "id": "XuiuR4CBhvD2"
      },
      "outputs": [],
      "source": [
        "import numpy as np\n",
        "import h5py"
      ]
    },
    {
      "cell_type": "code",
      "source": [
        "from google.colab import drive\n",
        "drive.mount('/content/drive')"
      ],
      "metadata": {
        "colab": {
          "base_uri": "https://localhost:8080/"
        },
        "id": "kB4HMgHdiixw",
        "outputId": "2445f828-6a70-4462-b138-5ede1cfc5467"
      },
      "execution_count": 2,
      "outputs": [
        {
          "output_type": "stream",
          "name": "stdout",
          "text": [
            "Mounted at /content/drive\n"
          ]
        }
      ]
    },
    {
      "cell_type": "code",
      "source": [
        "import tensorflow as tf \n",
        "from tensorflow import keras \n",
        "import matplotlib.pyplot as plt \n",
        "import sys \n",
        "from tensorflow.keras.optimizers import Adam, SGD, RMSprop\n",
        "\n",
        "from sklearn.model_selection import train_test_split\n",
        "from keras.models import Sequential \n",
        "from keras.layers import Dense, Dropout, Flatten \n",
        "from keras.layers import Conv2D, MaxPooling2D\n",
        "from keras.optimizers import gradient_descent_v2\n",
        "from keras.regularizers import l2\n",
        "from keras.preprocessing.image import ImageDataGenerator\n",
        "from keras.layers import BatchNormalization\n",
        "from keras.callbacks import ModelCheckpoint, EarlyStopping\n",
        "from keras.callbacks import ReduceLROnPlateau\n",
        "from sklearn.metrics import roc_curve, auc\n"
      ],
      "metadata": {
        "id": "jj7Cd9-gjB6w"
      },
      "execution_count": 3,
      "outputs": []
    },
    {
      "cell_type": "code",
      "source": [
        "def load_dataset():\n",
        "  #load dataset\n",
        "    f_electron = h5py.File('/content/drive/MyDrive/Colab Notebooks/task1/SingleElectronPt50_IMGCROPS_n249k_RHv1.hdf5', 'r')\n",
        "    f_photon = h5py.File('/content/drive/MyDrive/Colab Notebooks/task1/SinglePhotonPt50_IMGCROPS_n249k_RHv1.hdf5', 'r')\n",
        "\n",
        "    f_electron.keys()\n",
        "    f_photon.keys()\n",
        "\n",
        "    X_electron = f_electron.get('X')\n",
        "    y_electron = f_electron.get('y')\n",
        "    X_photon = f_photon.get('X')\n",
        "    y_photon = f_photon.get('y')\n",
        "    \n",
        "\n",
        "    X_electron = np.array(X_electron)\n",
        "    y_electron = np.array(y_electron)\n",
        "    X_photon = np.array(X_photon)\n",
        "    y_photon = np.array(y_photon)\n",
        "\n",
        "    f_electron.close()\n",
        "    f_photon.close\n",
        "\n",
        "    X = np.concatenate([X_electron, X_photon])\n",
        "    y = np.concatenate([y_electron, y_photon])\n",
        "    X_train, X_test, y_train, y_test = train_test_split(X, y, test_size=0.30, random_state= 0, shuffle = True)\n",
        "\n",
        "    \n",
        "\n",
        "    return X_train, y_train, X_test, y_test"
      ],
      "metadata": {
        "id": "2Y0U6z2NiquZ"
      },
      "execution_count": 4,
      "outputs": []
    },
    {
      "cell_type": "code",
      "source": [
        "def validation_split(X_test, y_test, valid_X, valid_Y, v_split):\n",
        "\n",
        "    index_of_validation = int(v_split * len(X_test))\n",
        "    valid_X.extend(X_test[-index_of_validation:])\n",
        "    valid_Y.extend(y_test[-index_of_validation:])\n",
        "    X_test = X_test[:-index_of_validation]\n",
        "    y_test = y_test[:-index_of_validation]\n",
        "    return X_test, y_test, np.asarray(valid_X), np.asarray(valid_Y)"
      ],
      "metadata": {
        "id": "SEcULN0Ki8HL"
      },
      "execution_count": 5,
      "outputs": []
    },
    {
      "cell_type": "code",
      "source": [
        "def model_VGG():\n",
        "  model = Sequential()\n",
        "\n",
        "  #vgg block_1\n",
        "  model.add(Conv2D(filters = 32, activation='relu', kernel_size=(3,3), padding='same', kernel_initializer='TruncatedNormal', input_shape=(32, 32, 2)))\n",
        "  model.add(Conv2D(filters= 32, activation='relu', kernel_size=(3,3), padding='same', kernel_initializer='TruncatedNormal'))\n",
        "  model.add(MaxPooling2D(pool_size=(2, 2)))\n",
        "\n",
        "  #vgg block_2\n",
        "  model.add(Conv2D(filters = 64, activation='relu', kernel_size=(3,3), padding='same', kernel_initializer='TruncatedNormal'))\n",
        "  model.add(Conv2D(filters = 64, activation='relu', kernel_size=(3,3), padding='same', kernel_initializer='TruncatedNormal'))\n",
        "  model.add(MaxPooling2D(pool_size=(2, 2)))\n",
        "\n",
        "  #Fully connected layer\n",
        "  model.add(Flatten())\n",
        "  model.add(Dense(256, activation='relu', kernel_initializer='TruncatedNormal'))\n",
        "  model.add(Dropout(0.2))\n",
        "  model.add(Dense(128, activation='relu', kernel_initializer='TruncatedNormal'))\n",
        "  model.add(Dropout(0.2))\n",
        "  model.add(Dense(1, activation='sigmoid', kernel_initializer='TruncatedNormal'))\n",
        "  \n",
        "  #compile model\n",
        "  opt = Adam(lr= 1.e-3)\n",
        "  model.compile(loss='binary_crossentropy',optimizer = opt , metrics=['accuracy'])\n",
        "  model.summary()\n",
        "\n",
        "  return model\n"
      ],
      "metadata": {
        "id": "Q53TOUUIjLqZ"
      },
      "execution_count": 6,
      "outputs": []
    },
    {
      "cell_type": "code",
      "source": [
        "def summarize_diagnostics(history):\n",
        "    plt.subplots(figsize = (7,7))\n",
        "    # plot loss\n",
        "    plt.subplot(211)\n",
        "    plt.title('Cross Entropy Loss')\n",
        "    plt.plot(history.history['loss'], color='blue', label='train')\n",
        "    plt.plot(history.history['val_loss'], color='orange', label='test')\n",
        "\n",
        "    # plot accuracy\n",
        "    plt.subplot(212)\n",
        "    plt.title('Classification Accuracy')\n",
        "    plt.plot(history.history['accuracy'], color='blue', label='train')\n",
        "    plt.plot(history.history['val_acc'], color='orange', label='test')\n",
        "    plt.show()\n",
        "    # save plot to file\n",
        "    filename = sys.argv[0].split('/')[-1]\n",
        "    plt.savefig(filename + '_plot.png')\n",
        "    plt.close()"
      ],
      "metadata": {
        "id": "JgCTBVJlivnG"
      },
      "execution_count": 7,
      "outputs": []
    },
    {
      "cell_type": "code",
      "source": [
        "def test_model():\n",
        "    X_train, y_train, X_test, y_test = load_dataset()\n",
        "\n",
        "    #get validation set \n",
        "    valid_X = []\n",
        "    valid_Y = []\n",
        "    X_test, y_test, validX, validY = validation_split(X_test, y_test, valid_X, valid_Y,v_split=0.5)\n",
        "\n",
        "    model = model_VGG()\n",
        "    \n",
        "\n",
        "    ##create data generator \n",
        "    #datagen = ImageDataGenerator(width_shift_range = 0.1, height_shift_range = 0.1, horizontal_flip = True)\n",
        "    #iterator \n",
        "    #train = datagen.flow(X_train, y_train, batch_size = 64)\n",
        "    \n",
        "\n",
        "    #checkpoint for early stopping \n",
        "    checkpoint = ModelCheckpoint(\"vgg16_1.h5\", monitor='val_acc', verbose=1, save_best_only=True, save_weights_only=False, mode='auto', period=1)\n",
        "    early = EarlyStopping(monitor='val_acc', min_delta=0, patience=3, verbose=1, mode='auto')\n",
        "    reduce_lr = ReduceLROnPlateau(monitor='val_loss', factor=0.2, patience=2, min_lr=1.e-6)\n",
        "\n",
        "    # fit model\n",
        "    steps = int(X_train.shape[0]/ 64)\n",
        "    history = model.fit(X_train, y_train,\n",
        "                        batch_size = 64, \n",
        "                        steps_per_epoch = steps, \n",
        "                        epochs=50, \n",
        "                        validation_data=(validX, validY),\n",
        "                        verbose=1, shuffle = True ,\n",
        "                        callbacks=[reduce_lr])\n",
        "    \n",
        "    #evaluate on validation dataset\n",
        "    score = model.evaluate(validX, validY , verbose=1)\n",
        "    print(f'Test loss: {score[0]} / Test accuracy: {score[1]}') \n",
        "    y_pred = model.predict(validX)\n",
        "    fpr, tpr, _ = roc_curve(validY, y_pred)\n",
        "    ROC = auc(fpr, tpr)\n",
        "    print('Validation ROC AUC: ',ROC)\n",
        "\n",
        "    #evaluate on test dataset\n",
        "    score = model.evaluate(X_test, y_test, verbose=1)\n",
        "    print(f'Test loss: {score[0]} / Test accuracy: {score[1]}') \n",
        "    y_pred = model.predict(X_test)\n",
        "    fpr, tpr, _ = roc_curve(y_test, y_pred)\n",
        "    ROC = auc(fpr, tpr)\n",
        "    print('Test ROC AUC: ',ROC)\n",
        "    #summarize_diagnostics(history)\n",
        "    return history\n",
        "\n",
        "def main():\n",
        "\ttest_model()\n",
        "\n",
        "if __name__ == \"__main__\":\n",
        "    main()"
      ],
      "metadata": {
        "colab": {
          "base_uri": "https://localhost:8080/"
        },
        "id": "uO5iinJPjY5O",
        "outputId": "71d9f83c-9b65-4200-8e8e-1ac0fbc75bef"
      },
      "execution_count": 8,
      "outputs": [
        {
          "metadata": {
            "tags": null
          },
          "name": "stdout",
          "output_type": "stream",
          "text": [
            "Model: \"sequential\"\n",
            "_________________________________________________________________\n",
            " Layer (type)                Output Shape              Param #   \n",
            "=================================================================\n",
            " conv2d (Conv2D)             (None, 32, 32, 32)        608       \n",
            "                                                                 \n",
            " conv2d_1 (Conv2D)           (None, 32, 32, 32)        9248      \n",
            "                                                                 \n",
            " max_pooling2d (MaxPooling2D  (None, 16, 16, 32)       0         \n",
            " )                                                               \n",
            "                                                                 \n",
            " conv2d_2 (Conv2D)           (None, 16, 16, 64)        18496     \n",
            "                                                                 \n",
            " conv2d_3 (Conv2D)           (None, 16, 16, 64)        36928     \n",
            "                                                                 \n",
            " max_pooling2d_1 (MaxPooling  (None, 8, 8, 64)         0         \n",
            " 2D)                                                             \n",
            "                                                                 \n",
            " flatten (Flatten)           (None, 4096)              0         \n",
            "                                                                 \n",
            " dense (Dense)               (None, 256)               1048832   \n",
            "                                                                 \n",
            " dropout (Dropout)           (None, 256)               0         \n",
            "                                                                 \n",
            " dense_1 (Dense)             (None, 128)               32896     \n",
            "                                                                 \n",
            " dropout_1 (Dropout)         (None, 128)               0         \n",
            "                                                                 \n",
            " dense_2 (Dense)             (None, 1)                 129       \n",
            "                                                                 \n",
            "=================================================================\n",
            "Total params: 1,147,137\n",
            "Trainable params: 1,147,137\n",
            "Non-trainable params: 0\n",
            "_________________________________________________________________\n",
            "WARNING:tensorflow:`period` argument is deprecated. Please use `save_freq` to specify the frequency in number of batches seen.\n"
          ]
        },
        {
          "metadata": {
            "tags": null
          },
          "name": "stderr",
          "output_type": "stream",
          "text": [
            "/usr/local/lib/python3.7/dist-packages/keras/optimizer_v2/adam.py:105: UserWarning: The `lr` argument is deprecated, use `learning_rate` instead.\n",
            "  super(Adam, self).__init__(name, **kwargs)\n"
          ]
        },
        {
          "output_type": "stream",
          "name": "stdout",
          "text": [
            "Epoch 1/50\n",
            "5446/5446 [==============================] - 47s 7ms/step - loss: 0.6137 - accuracy: 0.6676 - val_loss: 0.5770 - val_accuracy: 0.7043 - lr: 0.0010\n",
            "Epoch 2/50\n",
            "5446/5446 [==============================] - 35s 7ms/step - loss: 0.5741 - accuracy: 0.7089 - val_loss: 0.5576 - val_accuracy: 0.7240 - lr: 0.0010\n",
            "Epoch 3/50\n",
            "5446/5446 [==============================] - 35s 6ms/step - loss: 0.5637 - accuracy: 0.7172 - val_loss: 0.5526 - val_accuracy: 0.7201 - lr: 0.0010\n",
            "Epoch 4/50\n",
            "5446/5446 [==============================] - 36s 7ms/step - loss: 0.5576 - accuracy: 0.7213 - val_loss: 0.5487 - val_accuracy: 0.7269 - lr: 0.0010\n",
            "Epoch 5/50\n",
            "5446/5446 [==============================] - 35s 6ms/step - loss: 0.5539 - accuracy: 0.7248 - val_loss: 0.5448 - val_accuracy: 0.7317 - lr: 0.0010\n",
            "Epoch 6/50\n",
            "5446/5446 [==============================] - 35s 6ms/step - loss: 0.5507 - accuracy: 0.7272 - val_loss: 0.5426 - val_accuracy: 0.7332 - lr: 0.0010\n",
            "Epoch 7/50\n",
            "5446/5446 [==============================] - 35s 6ms/step - loss: 0.5485 - accuracy: 0.7286 - val_loss: 0.5432 - val_accuracy: 0.7329 - lr: 0.0010\n",
            "Epoch 8/50\n",
            "5446/5446 [==============================] - 35s 6ms/step - loss: 0.5470 - accuracy: 0.7291 - val_loss: 0.5377 - val_accuracy: 0.7369 - lr: 0.0010\n",
            "Epoch 9/50\n",
            "5446/5446 [==============================] - 35s 6ms/step - loss: 0.5449 - accuracy: 0.7316 - val_loss: 0.5486 - val_accuracy: 0.7301 - lr: 0.0010\n",
            "Epoch 10/50\n",
            "5446/5446 [==============================] - 35s 6ms/step - loss: 0.5432 - accuracy: 0.7320 - val_loss: 0.5419 - val_accuracy: 0.7331 - lr: 0.0010\n",
            "Epoch 11/50\n",
            "5446/5446 [==============================] - 35s 6ms/step - loss: 0.5308 - accuracy: 0.7405 - val_loss: 0.5297 - val_accuracy: 0.7415 - lr: 2.0000e-04\n",
            "Epoch 12/50\n",
            "5446/5446 [==============================] - 35s 6ms/step - loss: 0.5278 - accuracy: 0.7420 - val_loss: 0.5300 - val_accuracy: 0.7412 - lr: 2.0000e-04\n",
            "Epoch 13/50\n",
            "5446/5446 [==============================] - 35s 6ms/step - loss: 0.5258 - accuracy: 0.7440 - val_loss: 0.5295 - val_accuracy: 0.7421 - lr: 2.0000e-04\n",
            "Epoch 14/50\n",
            "5446/5446 [==============================] - 35s 6ms/step - loss: 0.5246 - accuracy: 0.7444 - val_loss: 0.5308 - val_accuracy: 0.7416 - lr: 2.0000e-04\n",
            "Epoch 15/50\n",
            "5446/5446 [==============================] - 35s 6ms/step - loss: 0.5234 - accuracy: 0.7451 - val_loss: 0.5298 - val_accuracy: 0.7416 - lr: 2.0000e-04\n",
            "Epoch 16/50\n",
            "5446/5446 [==============================] - 35s 6ms/step - loss: 0.5192 - accuracy: 0.7475 - val_loss: 0.5288 - val_accuracy: 0.7427 - lr: 4.0000e-05\n",
            "Epoch 17/50\n",
            "5446/5446 [==============================] - 35s 6ms/step - loss: 0.5180 - accuracy: 0.7483 - val_loss: 0.5292 - val_accuracy: 0.7423 - lr: 4.0000e-05\n",
            "Epoch 18/50\n",
            "5446/5446 [==============================] - 35s 6ms/step - loss: 0.5175 - accuracy: 0.7483 - val_loss: 0.5292 - val_accuracy: 0.7434 - lr: 4.0000e-05\n",
            "Epoch 19/50\n",
            "5446/5446 [==============================] - 35s 6ms/step - loss: 0.5166 - accuracy: 0.7496 - val_loss: 0.5290 - val_accuracy: 0.7430 - lr: 8.0000e-06\n",
            "Epoch 20/50\n",
            "5446/5446 [==============================] - 35s 6ms/step - loss: 0.5161 - accuracy: 0.7491 - val_loss: 0.5291 - val_accuracy: 0.7429 - lr: 8.0000e-06\n",
            "Epoch 21/50\n",
            "5446/5446 [==============================] - 35s 6ms/step - loss: 0.5161 - accuracy: 0.7496 - val_loss: 0.5291 - val_accuracy: 0.7429 - lr: 1.6000e-06\n",
            "Epoch 22/50\n",
            "5446/5446 [==============================] - 35s 6ms/step - loss: 0.5162 - accuracy: 0.7496 - val_loss: 0.5290 - val_accuracy: 0.7428 - lr: 1.6000e-06\n",
            "Epoch 23/50\n",
            "5446/5446 [==============================] - 35s 6ms/step - loss: 0.5155 - accuracy: 0.7497 - val_loss: 0.5290 - val_accuracy: 0.7427 - lr: 1.0000e-06\n",
            "Epoch 24/50\n",
            "5446/5446 [==============================] - 35s 6ms/step - loss: 0.5162 - accuracy: 0.7494 - val_loss: 0.5290 - val_accuracy: 0.7428 - lr: 1.0000e-06\n",
            "Epoch 25/50\n",
            "5446/5446 [==============================] - 35s 6ms/step - loss: 0.5160 - accuracy: 0.7495 - val_loss: 0.5290 - val_accuracy: 0.7428 - lr: 1.0000e-06\n",
            "Epoch 26/50\n",
            "5446/5446 [==============================] - 35s 6ms/step - loss: 0.5159 - accuracy: 0.7494 - val_loss: 0.5290 - val_accuracy: 0.7429 - lr: 1.0000e-06\n",
            "Epoch 27/50\n",
            "5446/5446 [==============================] - 35s 6ms/step - loss: 0.5161 - accuracy: 0.7495 - val_loss: 0.5290 - val_accuracy: 0.7429 - lr: 1.0000e-06\n",
            "Epoch 28/50\n",
            "5446/5446 [==============================] - 35s 6ms/step - loss: 0.5162 - accuracy: 0.7493 - val_loss: 0.5290 - val_accuracy: 0.7429 - lr: 1.0000e-06\n",
            "Epoch 29/50\n",
            "5446/5446 [==============================] - 35s 6ms/step - loss: 0.5159 - accuracy: 0.7497 - val_loss: 0.5290 - val_accuracy: 0.7427 - lr: 1.0000e-06\n",
            "Epoch 30/50\n",
            "5446/5446 [==============================] - 35s 6ms/step - loss: 0.5160 - accuracy: 0.7497 - val_loss: 0.5290 - val_accuracy: 0.7428 - lr: 1.0000e-06\n",
            "Epoch 31/50\n",
            "5446/5446 [==============================] - 35s 7ms/step - loss: 0.5159 - accuracy: 0.7497 - val_loss: 0.5290 - val_accuracy: 0.7429 - lr: 1.0000e-06\n",
            "Epoch 32/50\n",
            "5446/5446 [==============================] - 35s 6ms/step - loss: 0.5161 - accuracy: 0.7497 - val_loss: 0.5290 - val_accuracy: 0.7429 - lr: 1.0000e-06\n",
            "Epoch 33/50\n",
            "5446/5446 [==============================] - 35s 6ms/step - loss: 0.5158 - accuracy: 0.7499 - val_loss: 0.5291 - val_accuracy: 0.7427 - lr: 1.0000e-06\n",
            "Epoch 34/50\n",
            "5446/5446 [==============================] - 35s 6ms/step - loss: 0.5160 - accuracy: 0.7495 - val_loss: 0.5291 - val_accuracy: 0.7428 - lr: 1.0000e-06\n",
            "Epoch 35/50\n",
            "5446/5446 [==============================] - 35s 6ms/step - loss: 0.5159 - accuracy: 0.7494 - val_loss: 0.5291 - val_accuracy: 0.7428 - lr: 1.0000e-06\n",
            "Epoch 36/50\n",
            "5446/5446 [==============================] - 35s 6ms/step - loss: 0.5158 - accuracy: 0.7494 - val_loss: 0.5291 - val_accuracy: 0.7428 - lr: 1.0000e-06\n",
            "Epoch 37/50\n",
            "5446/5446 [==============================] - 35s 6ms/step - loss: 0.5159 - accuracy: 0.7500 - val_loss: 0.5291 - val_accuracy: 0.7429 - lr: 1.0000e-06\n",
            "Epoch 38/50\n",
            "5446/5446 [==============================] - 35s 6ms/step - loss: 0.5159 - accuracy: 0.7494 - val_loss: 0.5291 - val_accuracy: 0.7429 - lr: 1.0000e-06\n",
            "Epoch 39/50\n",
            "5446/5446 [==============================] - 34s 6ms/step - loss: 0.5157 - accuracy: 0.7497 - val_loss: 0.5291 - val_accuracy: 0.7428 - lr: 1.0000e-06\n",
            "Epoch 40/50\n",
            "5446/5446 [==============================] - 35s 6ms/step - loss: 0.5161 - accuracy: 0.7497 - val_loss: 0.5291 - val_accuracy: 0.7430 - lr: 1.0000e-06\n",
            "Epoch 41/50\n",
            "5446/5446 [==============================] - 35s 6ms/step - loss: 0.5162 - accuracy: 0.7496 - val_loss: 0.5291 - val_accuracy: 0.7429 - lr: 1.0000e-06\n",
            "Epoch 42/50\n",
            "5446/5446 [==============================] - 35s 6ms/step - loss: 0.5153 - accuracy: 0.7497 - val_loss: 0.5291 - val_accuracy: 0.7429 - lr: 1.0000e-06\n",
            "Epoch 43/50\n",
            "5446/5446 [==============================] - 35s 6ms/step - loss: 0.5159 - accuracy: 0.7495 - val_loss: 0.5291 - val_accuracy: 0.7429 - lr: 1.0000e-06\n",
            "Epoch 44/50\n",
            "5446/5446 [==============================] - 35s 6ms/step - loss: 0.5159 - accuracy: 0.7496 - val_loss: 0.5291 - val_accuracy: 0.7429 - lr: 1.0000e-06\n",
            "Epoch 45/50\n",
            "5446/5446 [==============================] - 35s 6ms/step - loss: 0.5157 - accuracy: 0.7498 - val_loss: 0.5291 - val_accuracy: 0.7429 - lr: 1.0000e-06\n",
            "Epoch 46/50\n",
            "5446/5446 [==============================] - 35s 6ms/step - loss: 0.5161 - accuracy: 0.7496 - val_loss: 0.5291 - val_accuracy: 0.7429 - lr: 1.0000e-06\n",
            "Epoch 47/50\n",
            "5446/5446 [==============================] - 35s 6ms/step - loss: 0.5159 - accuracy: 0.7497 - val_loss: 0.5291 - val_accuracy: 0.7428 - lr: 1.0000e-06\n",
            "Epoch 48/50\n",
            "5446/5446 [==============================] - 35s 6ms/step - loss: 0.5158 - accuracy: 0.7500 - val_loss: 0.5291 - val_accuracy: 0.7430 - lr: 1.0000e-06\n",
            "Epoch 49/50\n",
            "5446/5446 [==============================] - 35s 6ms/step - loss: 0.5156 - accuracy: 0.7497 - val_loss: 0.5291 - val_accuracy: 0.7430 - lr: 1.0000e-06\n",
            "Epoch 50/50\n",
            "5446/5446 [==============================] - 35s 6ms/step - loss: 0.5157 - accuracy: 0.7498 - val_loss: 0.5291 - val_accuracy: 0.7430 - lr: 1.0000e-06\n",
            "2335/2335 [==============================] - 7s 3ms/step - loss: 0.5291 - accuracy: 0.7430\n",
            "Test loss: 0.5291250944137573 / Test accuracy: 0.7429718971252441\n",
            "Validation ROC AUC:  0.8128957743884982\n",
            "2335/2335 [==============================] - 7s 3ms/step - loss: 0.5336 - accuracy: 0.7383\n",
            "Test loss: 0.5336227416992188 / Test accuracy: 0.7382597327232361\n",
            "Test ROC AUC:  0.8091968447503954\n"
          ]
        }
      ]
    }
  ]
}